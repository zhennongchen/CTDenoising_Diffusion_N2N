{
 "cells": [
  {
   "cell_type": "markdown",
   "metadata": {},
   "source": [
    "## Data Preparation\n",
    "\n",
    "You should prepare the following things before running this step. \n",
    "1. **A patient list** that emunarates fixed CT scans.  \n",
    "   - we have 100 fixed CT in this study.\n",
    "   - each fixed CT has two simulations of type 1 noise (poisson noise) and two simulations of type 2 (guassian noise) (see step1.ipynb for noise definition).\n",
    "---\n",
    "## Task: Split simulated dataset into batches\n",
    "\n",
    "- 5 batches (0-4) for training and validation, 1 batch (5) for testing\n",
    "\n",
    "---\n",
    "\n",
    "### Docker environment\n",
    "Please use `docker/docker_pytorch`, it will build a pytorch docker\n"
   ]
  },
  {
   "cell_type": "code",
   "execution_count": 2,
   "metadata": {},
   "outputs": [],
   "source": [
    "import sys\n",
    "sys.path.append('/workspace/Documents')\n",
    "import os\n",
    "import numpy as np\n",
    "import pandas as pd\n",
    "import nibabel as nb\n",
    "import CTDenoising_Diffusion_N2N.functions_collection as ff\n",
    "\n",
    "main_path = '/mnt/camca_NAS/denoising/'"
   ]
  },
  {
   "cell_type": "markdown",
   "metadata": {},
   "source": [
    "### step 1: read original patient list"
   ]
  },
  {
   "cell_type": "code",
   "execution_count": 3,
   "metadata": {},
   "outputs": [
    {
     "name": "stdout",
     "output_type": "stream",
     "text": [
      "patient sheet len:  100\n"
     ]
    }
   ],
   "source": [
    "patient_sheet = pd.read_excel(os.path.join(main_path,'Patient_lists', 'fixedCT_static.xlsx'),dtype={'Patient_ID': str, 'Patient_subID': str})\n",
    "print('patient sheet len: ', len(patient_sheet))"
   ]
  },
  {
   "cell_type": "markdown",
   "metadata": {},
   "source": [
    "### step 2: split into 6 batches"
   ]
  },
  {
   "cell_type": "code",
   "execution_count": 4,
   "metadata": {},
   "outputs": [],
   "source": [
    "if os.path.isfile(os.path.join(main_path,'Patient_lists', 'fixedCT_static_shuffled_batched.xlsx')) == 1:\n",
    "    print('already split')\n",
    "else:\n",
    "    A = np.arange(0,100)\n",
    "    np.random.shuffle(A)\n",
    "    num_batches = 6\n",
    "    batches = np.array_split(A, num_batches)\n",
    "\n",
    "    batch_column = []\n",
    "    for i in range(0,len(patient_sheet)):\n",
    "        for j in range(0,num_batches):\n",
    "            if i in batches[j]:\n",
    "                batch_column.append(j)\n",
    "                break\n",
    "    patient_sheet['batch'] = batch_column\n",
    "\n",
    "    patient_sheet_shuffled = patient_sheet.iloc[A].reset_index(drop=True)\n",
    "    patient_sheet_shuffled.to_excel(os.path.join(main_path, 'Patient_lists', 'fixedCT_static_shuffled_batched.xlsx'), index=False)\n"
   ]
  },
  {
   "cell_type": "markdown",
   "metadata": {},
   "source": [
    "### step 3: make a patient list for model training and testing"
   ]
  },
  {
   "cell_type": "code",
   "execution_count": 5,
   "metadata": {},
   "outputs": [],
   "source": [
    "patient_sheet = pd.read_excel(os.path.join(main_path,'Patient_lists','fixedCT_static_shuffled_batched.xlsx'),dtype={'Patient_ID': str, 'Patient_subID': str})\n",
    "noise_types = ['gaussian','poisson']\n",
    "simulation_num = 2\n",
    "\n",
    "link = 'local' # 'local' or 'NAS'\n",
    "if link == 'local':\n",
    "    data_path1 = '/workspace/Documents/Data/denoising'\n",
    "elif link == 'NAS':\n",
    "    data_path1 = '/mnt/camca_NAS/denoising/Data'\n",
    "\n",
    "for noise_type in noise_types:\n",
    "    results = []\n",
    "    for i in range(0, len(patient_sheet)):\n",
    "        patient_id = patient_sheet['Patient_ID'][i]\n",
    "        patient_subid = patient_sheet['Patient_subID'][i]\n",
    "        batch = patient_sheet['batch'][i]\n",
    "        print(f\"Processing patient {patient_id} {patient_subid}...\")\n",
    "\n",
    "        for n in range(0,simulation_num):\n",
    "            # fix the typo\n",
    "            n_type = 'gaussian' if noise_type == 'gaussian' else 'possion'\n",
    "            simulation_file = os.path.join(data_path1,'simulation/',patient_id,patient_subid,n_type+'_random_'+str(n), 'recon.nii.gz')\n",
    "            ground_truth_file = os.path.join(data_path1,'fixedCT/',patient_id,patient_subid,'img_thinslice_partial.nii.gz')\n",
    "\n",
    "            results.append([batch,patient_id, patient_subid, n,simulation_file, ground_truth_file])#, simulation_img.shape])\n",
    "\n",
    "        df = pd.DataFrame(results, columns=['batch','Patient_ID', 'Patient_subID', 'random_num', 'noise_file', 'ground_truth_file'])#, 'image_shape'])\n",
    "        df.to_excel(os.path.join(main_path, 'Patient_lists', 'fixedCT_static_simulation_train_test_' + noise_type + '_' + link +'.xlsx'), index=False)"
   ]
  },
  {
   "cell_type": "code",
   "execution_count": null,
   "metadata": {},
   "outputs": [],
   "source": []
  }
 ],
 "metadata": {
  "kernelspec": {
   "display_name": "Python 3 (ipykernel)",
   "language": "python",
   "name": "python3"
  }
 },
 "nbformat": 4,
 "nbformat_minor": 2
}
