{
 "cells": [
  {
   "cell_type": "code",
   "execution_count": 2,
   "metadata": {},
   "outputs": [
    {
     "name": "stderr",
     "output_type": "stream",
     "text": [
      "/usr/local/lib/python3.8/dist-packages/tqdm/auto.py:21: TqdmWarning: IProgress not found. Please update jupyter and ipywidgets. See https://ipywidgets.readthedocs.io/en/stable/user_install.html\n",
      "  from .autonotebook import tqdm as notebook_tqdm\n"
     ]
    }
   ],
   "source": [
    "import sys\n",
    "sys.path.append('/workspace/Documents')\n",
    "# imports\n",
    "import os, sys\n",
    "import numpy as np \n",
    "import pandas as pd\n",
    "import nibabel as nb\n",
    "from skimage.measure import block_reduce \n",
    "\n",
    "import Diffusion_denoising_thin_slice.functions_collection as ff\n",
    "import Diffusion_denoising_thin_slice.Data_processing as Data_processing\n",
    "\n",
    "data_path = '/mnt/camca_NAS/Portable_CT_data'\n",
    "save_path = '/mnt/camca_NAS/denoising'"
   ]
  },
  {
   "cell_type": "code",
   "execution_count": 3,
   "metadata": {},
   "outputs": [],
   "source": [
    "# patient list\n",
    "patient_list = pd.read_excel(os.path.join('/mnt/camca_NAS/diffusion_ct_motion/data/Patient_list','Patient_list_real_portable_CT_202404.xlsx'),dtype={'PatientID': str, 'AccessionNumber': str})"
   ]
  },
  {
   "cell_type": "markdown",
   "metadata": {},
   "source": [
    "### check the CNR ratio"
   ]
  },
  {
   "cell_type": "code",
   "execution_count": 6,
   "metadata": {},
   "outputs": [
    {
     "ename": "FileNotFoundError",
     "evalue": "[Errno 2] No such file or directory: '/mnt/camca_NAS/denoising/aa/00213349/0000446627/portable/img_1mm.nii.gz'",
     "output_type": "error",
     "traceback": [
      "\u001b[0;31m---------------------------------------------------------------------------\u001b[0m",
      "\u001b[0;31mFileNotFoundError\u001b[0m                         Traceback (most recent call last)",
      "\u001b[1;32m/workspace/Documents/Diffusion_denoising_thin_slice/simulation/portable_CT_noise_level_check.ipynb Cell 4\u001b[0m line \u001b[0;36m2\n\u001b[1;32m     <a href='vscode-notebook-cell://attached-container%2B7b22636f6e7461696e65724e616d65223a222f646f636b65725f6578227d@ssh-remote%2B7b22686f73744e616d65223a227a68656e6e6f6e676368656e5f434344535f47505538227d/workspace/Documents/Diffusion_denoising_thin_slice/simulation/portable_CT_noise_level_check.ipynb#W3sdnNjb2RlLXJlbW90ZQ%3D%3D?line=26'>27</a>\u001b[0m     \u001b[39m# save the image\u001b[39;00m\n\u001b[1;32m     <a href='vscode-notebook-cell://attached-container%2B7b22636f6e7461696e65724e616d65223a222f646f636b65725f6578227d@ssh-remote%2B7b22686f73744e616d65223a227a68656e6e6f6e676368656e5f434344535f47505538227d/workspace/Documents/Diffusion_denoising_thin_slice/simulation/portable_CT_noise_level_check.ipynb#W3sdnNjb2RlLXJlbW90ZQ%3D%3D?line=27'>28</a>\u001b[0m     new_img \u001b[39m=\u001b[39m nb\u001b[39m.\u001b[39mNifti1Image(img_1mm, affine, original_header)\n\u001b[0;32m---> <a href='vscode-notebook-cell://attached-container%2B7b22636f6e7461696e65724e616d65223a222f646f636b65725f6578227d@ssh-remote%2B7b22686f73744e616d65223a227a68656e6e6f6e676368656e5f434344535f47505538227d/workspace/Documents/Diffusion_denoising_thin_slice/simulation/portable_CT_noise_level_check.ipynb#W3sdnNjb2RlLXJlbW90ZQ%3D%3D?line=28'>29</a>\u001b[0m     nb\u001b[39m.\u001b[39;49msave(new_img, os\u001b[39m.\u001b[39;49mpath\u001b[39m.\u001b[39;49mjoin(save_path, \u001b[39m'\u001b[39;49m\u001b[39maa\u001b[39;49m\u001b[39m'\u001b[39;49m,patient_ID,patient_subID,\u001b[39m'\u001b[39;49m\u001b[39mportable/img_1mm.nii.gz\u001b[39;49m\u001b[39m'\u001b[39;49m))\n\u001b[1;32m     <a href='vscode-notebook-cell://attached-container%2B7b22636f6e7461696e65724e616d65223a222f646f636b65725f6578227d@ssh-remote%2B7b22686f73744e616d65223a227a68656e6e6f6e676368656e5f434344535f47505538227d/workspace/Documents/Diffusion_denoising_thin_slice/simulation/portable_CT_noise_level_check.ipynb#W3sdnNjb2RlLXJlbW90ZQ%3D%3D?line=31'>32</a>\u001b[0m \u001b[39m#     # put threshold [-100,100]\u001b[39;00m\n\u001b[1;32m     <a href='vscode-notebook-cell://attached-container%2B7b22636f6e7461696e65724e616d65223a222f646f636b65725f6578227d@ssh-remote%2B7b22686f73744e616d65223a227a68656e6e6f6e676368656e5f434344535f47505538227d/workspace/Documents/Diffusion_denoising_thin_slice/simulation/portable_CT_noise_level_check.ipynb#W3sdnNjb2RlLXJlbW90ZQ%3D%3D?line=32'>33</a>\u001b[0m \u001b[39m#     img_1mm_cutoff = Data_processing.cutoff_intensity(img_1mm, cutoff_low=-100, cutoff_high=100)\u001b[39;00m\n\u001b[1;32m     <a href='vscode-notebook-cell://attached-container%2B7b22636f6e7461696e65724e616d65223a222f646f636b65725f6578227d@ssh-remote%2B7b22686f73744e616d65223a227a68656e6e6f6e676368656e5f434344535f47505538227d/workspace/Documents/Diffusion_denoising_thin_slice/simulation/portable_CT_noise_level_check.ipynb#W3sdnNjb2RlLXJlbW90ZQ%3D%3D?line=33'>34</a>\u001b[0m \u001b[39m#     print('min:', np.min(img_1mm_cutoff), 'max:', np.max(img_1mm_cutoff))\u001b[39;00m\n\u001b[0;32m   (...)\u001b[0m\n\u001b[1;32m     <a href='vscode-notebook-cell://attached-container%2B7b22636f6e7461696e65724e616d65223a222f646f636b65725f6578227d@ssh-remote%2B7b22686f73744e616d65223a227a68656e6e6f6e676368656e5f434344535f47505538227d/workspace/Documents/Diffusion_denoising_thin_slice/simulation/portable_CT_noise_level_check.ipynb#W3sdnNjb2RlLXJlbW90ZQ%3D%3D?line=47'>48</a>\u001b[0m \u001b[39m# results = pd.DataFrame(results, columns=['PatientID', 'AccessionNumber', 'CNR', 'background_std'])\u001b[39;00m\n\u001b[1;32m     <a href='vscode-notebook-cell://attached-container%2B7b22636f6e7461696e65724e616d65223a222f646f636b65725f6578227d@ssh-remote%2B7b22686f73744e616d65223a227a68656e6e6f6e676368656e5f434344535f47505538227d/workspace/Documents/Diffusion_denoising_thin_slice/simulation/portable_CT_noise_level_check.ipynb#W3sdnNjb2RlLXJlbW90ZQ%3D%3D?line=48'>49</a>\u001b[0m \u001b[39m# results.to_excel(os.path.join(save_path, 'Patient_lists/portable_CT_CNR.xlsx'), index=False)\u001b[39;00m\n",
      "File \u001b[0;32m/usr/local/lib/python3.8/dist-packages/nibabel/loadsave.py:99\u001b[0m, in \u001b[0;36msave\u001b[0;34m(img, filename)\u001b[0m\n\u001b[1;32m     97\u001b[0m \u001b[39m# Save the type as expected\u001b[39;00m\n\u001b[1;32m     98\u001b[0m \u001b[39mtry\u001b[39;00m:\n\u001b[0;32m---> 99\u001b[0m     img\u001b[39m.\u001b[39;49mto_filename(filename)\n\u001b[1;32m    100\u001b[0m \u001b[39mexcept\u001b[39;00m ImageFileError:\n\u001b[1;32m    101\u001b[0m     \u001b[39mpass\u001b[39;00m\n",
      "File \u001b[0;32m/usr/local/lib/python3.8/dist-packages/nibabel/filebasedimages.py:333\u001b[0m, in \u001b[0;36mFileBasedImage.to_filename\u001b[0;34m(self, filename)\u001b[0m\n\u001b[1;32m    319\u001b[0m \u001b[39m\u001b[39m\u001b[39m\"\"\" Write image to files implied by filename string\u001b[39;00m\n\u001b[1;32m    320\u001b[0m \n\u001b[1;32m    321\u001b[0m \u001b[39mParameters\u001b[39;00m\n\u001b[0;32m   (...)\u001b[0m\n\u001b[1;32m    330\u001b[0m \u001b[39mNone\u001b[39;00m\n\u001b[1;32m    331\u001b[0m \u001b[39m\"\"\"\u001b[39;00m\n\u001b[1;32m    332\u001b[0m \u001b[39mself\u001b[39m\u001b[39m.\u001b[39mfile_map \u001b[39m=\u001b[39m \u001b[39mself\u001b[39m\u001b[39m.\u001b[39mfilespec_to_file_map(filename)\n\u001b[0;32m--> 333\u001b[0m \u001b[39mself\u001b[39;49m\u001b[39m.\u001b[39;49mto_file_map()\n",
      "File \u001b[0;32m/usr/local/lib/python3.8/dist-packages/nibabel/analyze.py:1030\u001b[0m, in \u001b[0;36mAnalyzeImage.to_file_map\u001b[0;34m(self, file_map)\u001b[0m\n\u001b[1;32m   1026\u001b[0m \u001b[39m# Check if hdr and img refer to same file; this can happen with odd\u001b[39;00m\n\u001b[1;32m   1027\u001b[0m \u001b[39m# analyze images but most often this is because it's a single nifti\u001b[39;00m\n\u001b[1;32m   1028\u001b[0m \u001b[39m# file\u001b[39;00m\n\u001b[1;32m   1029\u001b[0m hdr_img_same \u001b[39m=\u001b[39m hdr_fh\u001b[39m.\u001b[39msame_file_as(img_fh)\n\u001b[0;32m-> 1030\u001b[0m hdrf \u001b[39m=\u001b[39m hdr_fh\u001b[39m.\u001b[39;49mget_prepare_fileobj(mode\u001b[39m=\u001b[39;49m\u001b[39m'\u001b[39;49m\u001b[39mwb\u001b[39;49m\u001b[39m'\u001b[39;49m)\n\u001b[1;32m   1031\u001b[0m \u001b[39mif\u001b[39;00m hdr_img_same:\n\u001b[1;32m   1032\u001b[0m     imgf \u001b[39m=\u001b[39m hdrf\n",
      "File \u001b[0;32m/usr/local/lib/python3.8/dist-packages/nibabel/fileholders.py:70\u001b[0m, in \u001b[0;36mFileHolder.get_prepare_fileobj\u001b[0;34m(self, *args, **kwargs)\u001b[0m\n\u001b[1;32m     68\u001b[0m     obj\u001b[39m.\u001b[39mseek(\u001b[39mself\u001b[39m\u001b[39m.\u001b[39mpos)\n\u001b[1;32m     69\u001b[0m \u001b[39melif\u001b[39;00m \u001b[39mself\u001b[39m\u001b[39m.\u001b[39mfilename \u001b[39mis\u001b[39;00m \u001b[39mnot\u001b[39;00m \u001b[39mNone\u001b[39;00m:\n\u001b[0;32m---> 70\u001b[0m     obj \u001b[39m=\u001b[39m ImageOpener(\u001b[39mself\u001b[39;49m\u001b[39m.\u001b[39;49mfilename, \u001b[39m*\u001b[39;49margs, \u001b[39m*\u001b[39;49m\u001b[39m*\u001b[39;49mkwargs)\n\u001b[1;32m     71\u001b[0m     \u001b[39mif\u001b[39;00m \u001b[39mself\u001b[39m\u001b[39m.\u001b[39mpos \u001b[39m!=\u001b[39m \u001b[39m0\u001b[39m:\n\u001b[1;32m     72\u001b[0m         obj\u001b[39m.\u001b[39mseek(\u001b[39mself\u001b[39m\u001b[39m.\u001b[39mpos)\n",
      "File \u001b[0;32m/usr/local/lib/python3.8/dist-packages/nibabel/openers.py:113\u001b[0m, in \u001b[0;36mOpener.__init__\u001b[0;34m(self, fileish, *args, **kwargs)\u001b[0m\n\u001b[1;32m    110\u001b[0m \u001b[39m# Clear keep_open hint if it is not relevant for the file type\u001b[39;00m\n\u001b[1;32m    111\u001b[0m \u001b[39melse\u001b[39;00m:\n\u001b[1;32m    112\u001b[0m     kwargs\u001b[39m.\u001b[39mpop(\u001b[39m'\u001b[39m\u001b[39mkeep_open\u001b[39m\u001b[39m'\u001b[39m, \u001b[39mNone\u001b[39;00m)\n\u001b[0;32m--> 113\u001b[0m \u001b[39mself\u001b[39m\u001b[39m.\u001b[39mfobj \u001b[39m=\u001b[39m opener(fileish, \u001b[39m*\u001b[39;49margs, \u001b[39m*\u001b[39;49m\u001b[39m*\u001b[39;49mkwargs)\n\u001b[1;32m    114\u001b[0m \u001b[39mself\u001b[39m\u001b[39m.\u001b[39m_name \u001b[39m=\u001b[39m fileish\n\u001b[1;32m    115\u001b[0m \u001b[39mself\u001b[39m\u001b[39m.\u001b[39mme_opened \u001b[39m=\u001b[39m \u001b[39mTrue\u001b[39;00m\n",
      "File \u001b[0;32m/usr/local/lib/python3.8/dist-packages/nibabel/openers.py:53\u001b[0m, in \u001b[0;36m_gzip_open\u001b[0;34m(filename, mode, compresslevel, keep_open)\u001b[0m\n\u001b[1;32m     49\u001b[0m     gzip_file \u001b[39m=\u001b[39m IndexedGzipFile(filename, drop_handles\u001b[39m=\u001b[39m\u001b[39mnot\u001b[39;00m keep_open)\n\u001b[1;32m     51\u001b[0m \u001b[39m# Fall-back to built-in GzipFile\u001b[39;00m\n\u001b[1;32m     52\u001b[0m \u001b[39melse\u001b[39;00m:\n\u001b[0;32m---> 53\u001b[0m     gzip_file \u001b[39m=\u001b[39m gzip\u001b[39m.\u001b[39;49mGzipFile(filename, mode, compresslevel)\n\u001b[1;32m     55\u001b[0m \u001b[39mreturn\u001b[39;00m gzip_file\n",
      "File \u001b[0;32m/usr/lib/python3.8/gzip.py:173\u001b[0m, in \u001b[0;36mGzipFile.__init__\u001b[0;34m(self, filename, mode, compresslevel, fileobj, mtime)\u001b[0m\n\u001b[1;32m    171\u001b[0m     mode \u001b[39m+\u001b[39m\u001b[39m=\u001b[39m \u001b[39m'\u001b[39m\u001b[39mb\u001b[39m\u001b[39m'\u001b[39m\n\u001b[1;32m    172\u001b[0m \u001b[39mif\u001b[39;00m fileobj \u001b[39mis\u001b[39;00m \u001b[39mNone\u001b[39;00m:\n\u001b[0;32m--> 173\u001b[0m     fileobj \u001b[39m=\u001b[39m \u001b[39mself\u001b[39m\u001b[39m.\u001b[39mmyfileobj \u001b[39m=\u001b[39m builtins\u001b[39m.\u001b[39;49mopen(filename, mode \u001b[39mor\u001b[39;49;00m \u001b[39m'\u001b[39;49m\u001b[39mrb\u001b[39;49m\u001b[39m'\u001b[39;49m)\n\u001b[1;32m    174\u001b[0m \u001b[39mif\u001b[39;00m filename \u001b[39mis\u001b[39;00m \u001b[39mNone\u001b[39;00m:\n\u001b[1;32m    175\u001b[0m     filename \u001b[39m=\u001b[39m \u001b[39mgetattr\u001b[39m(fileobj, \u001b[39m'\u001b[39m\u001b[39mname\u001b[39m\u001b[39m'\u001b[39m, \u001b[39m'\u001b[39m\u001b[39m'\u001b[39m)\n",
      "\u001b[0;31mFileNotFoundError\u001b[0m: [Errno 2] No such file or directory: '/mnt/camca_NAS/denoising/aa/00213349/0000446627/portable/img_1mm.nii.gz'"
     ]
    }
   ],
   "source": [
    "results = []\n",
    "for i in range(0,5):#len(patient_list)):\n",
    "    patient_ID = patient_list['PatientID'][i]\n",
    "    patient_subID = patient_list['AccessionNumber'][i]\n",
    "\n",
    "    # original_data\n",
    "    original_data = nb.load(os.path.join(data_path, 'nii_imgs_202404/motion',patient_ID,patient_subID,'portable/img.nii.gz'))\n",
    "    # pixel dim\n",
    "    pixdim = original_data.header.get_zooms()\n",
    "    affine = original_data.affine\n",
    "    original_header = original_data.header\n",
    "    # print('pixel dim:', pixdim)\n",
    "\n",
    "    # convert to xy 1mm first\n",
    "    scale_factor = [int(1/pixdim[0]), int(1/pixdim[1]), 1]\n",
    "    # use block_reduce to downsample the image\n",
    "    original_data = original_data.get_fdata()\n",
    "    if len(original_data.shape) == 4:\n",
    "        original_data = original_data[:,:,:,0]\n",
    "    img_1mm = block_reduce(original_data, tuple(scale_factor), np.mean)\n",
    "    # print(img_1mm.shape)\n",
    "\n",
    "    # change pixel dim to 1mm\n",
    "    new_pixdim = (1,1,pixdim[2])\n",
    "    # change it to header\n",
    "    original_header.set_zooms(new_pixdim)\n",
    "    # save the image\n",
    "    new_img = nb.Nifti1Image(img_1mm, affine, original_header)\n",
    "    ff.make_folder([os.path.join(save_path, 'aa',patient_ID), os.path.join(save_path, 'aa',patient_ID,patient_subID)])\n",
    "    nb.save(new_img, os.path.join(save_path, 'aa',patient_ID,patient_subID,'portable/img_1mm.nii.gz'))\n",
    "\n",
    "\n",
    "#     # put threshold [-100,100]\n",
    "#     img_1mm_cutoff = Data_processing.cutoff_intensity(img_1mm, cutoff_low=-100, cutoff_high=100)\n",
    "#     print('min:', np.min(img_1mm_cutoff), 'max:', np.max(img_1mm_cutoff))\n",
    "#     size = img_1mm_cutoff.shape\n",
    "\n",
    "#     # calculate CNR\n",
    "#     a = img_1mm_cutoff[size[0]//2-50:size[0]//2+50,size[1]//2-50:size[1]//2+50,size[2]//2 -50 :   size[2]//2+50]\n",
    "#     CNR = 100/np.std(a[ (a> 0) & (a < 100)])\n",
    "\n",
    "#     # calculate the background noise\n",
    "#     region = img_1mm[size[0]-30: size[0], size[1] - 30: size[1], size[2]//2-10:size[2]//2+10]\n",
    "#     background_std = np.std(region[region < 0])\n",
    "\n",
    "#     results.append([patient_ID, patient_subID, CNR, background_std])\n",
    "#     print('patient_ID:', patient_ID, 'patient_subID:', patient_subID, 'CNR:', CNR, 'background_std:', background_std)\n",
    "\n",
    "# results = pd.DataFrame(results, columns=['PatientID', 'AccessionNumber', 'CNR', 'background_std'])\n",
    "# results.to_excel(os.path.join(save_path, 'Patient_lists/portable_CT_CNR.xlsx'), index=False)\n",
    "   "
   ]
  },
  {
   "cell_type": "code",
   "execution_count": null,
   "metadata": {},
   "outputs": [],
   "source": []
  }
 ],
 "metadata": {
  "kernelspec": {
   "display_name": "Python 3",
   "language": "python",
   "name": "python3"
  },
  "language_info": {
   "codemirror_mode": {
    "name": "ipython",
    "version": 3
   },
   "file_extension": ".py",
   "mimetype": "text/x-python",
   "name": "python",
   "nbconvert_exporter": "python",
   "pygments_lexer": "ipython3",
   "version": "3.8.10"
  }
 },
 "nbformat": 4,
 "nbformat_minor": 2
}
