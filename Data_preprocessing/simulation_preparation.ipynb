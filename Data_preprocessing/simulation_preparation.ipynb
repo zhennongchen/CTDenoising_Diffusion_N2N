{
 "cells": [
  {
   "cell_type": "code",
   "execution_count": 2,
   "metadata": {},
   "outputs": [
    {
     "name": "stderr",
     "output_type": "stream",
     "text": [
      "/usr/local/lib/python3.8/dist-packages/tqdm/auto.py:21: TqdmWarning: IProgress not found. Please update jupyter and ipywidgets. See https://ipywidgets.readthedocs.io/en/stable/user_install.html\n",
      "  from .autonotebook import tqdm as notebook_tqdm\n"
     ]
    }
   ],
   "source": [
    "import sys\n",
    "sys.path.append('/workspace/Documents')\n",
    "# imports\n",
    "import os, sys\n",
    "import numpy as np \n",
    "import pandas as pd\n",
    "import nibabel as nb\n",
    "from skimage.measure import block_reduce\n",
    "\n",
    "import Diffusion_denoising_thin_slice.functions_collection as ff\n",
    "import Diffusion_denoising_thin_slice.Data_processing as Data_processing\n",
    "\n",
    "data_path = '/mnt/camca_NAS/Portable_CT_data'\n",
    "save_path = '/mnt/camca_NAS/denoising/Data'"
   ]
  },
  {
   "cell_type": "markdown",
   "metadata": {},
   "source": [
    "### preparation 1: resample all fixed CT to 5mm using averaging, then interpolate to 1.25mm"
   ]
  },
  {
   "cell_type": "code",
   "execution_count": 4,
   "metadata": {},
   "outputs": [
    {
     "name": "stdout",
     "output_type": "stream",
     "text": [
      "patient sheet len:  100\n",
      "z_scale_factor:  10\n"
     ]
    }
   ],
   "source": [
    "patient_sheet = pd.read_excel(os.path.join('/mnt/camca_NAS/denoising/','Patient_lists', 'fixedCT_static.xlsx'),dtype={'Patient_ID': str, 'Patient_subID': str})\n",
    "print('patient sheet len: ', len(patient_sheet))\n",
    "\n",
    "for i in range(0, 1):#len(patient_sheet)):\n",
    "    row = patient_sheet.iloc[i]\n",
    "    patient_id = row['Patient_ID']\n",
    "    patient_subID = row['Patient_subID']\n",
    "    use = row['use']\n",
    "\n",
    "    original_file = os.path.join(data_path,'nii_imgs_202404/static',patient_id,patient_subID,'fixed', use+'.nii.gz')\n",
    "    \n",
    "    # get the affine and pixel dimension\n",
    "    img = nb.load(original_file)\n",
    "    affine = img.affine\n",
    "    pixdim = img.header.get_zooms()\n",
    "    img_data = img.get_fdata()\n",
    "    \n",
    "    # ### [1,1, original_z]\n",
    "    # # turn x and y dim into 1mm\n",
    "    # scale_factor = [int(1/pixdim[0]), int(1/pixdim[1]), 1]\n",
    "    # # use block_reduce to downsample the image\n",
    "    # img_data = img.get_fdata()\n",
    "    # img_data_xy1mm = block_reduce(img_data, tuple(scale_factor), np.mean)\n",
    "\n",
    "    # # change the affine and pixel dimension \n",
    "    # new_affine = affine.copy()\n",
    "    # new_affine[0, 0] *= scale_factor[0]\n",
    "    # new_affine[1, 1] *= scale_factor[1]\n",
    "\n",
    "    # # new pixeldim\n",
    "    # new_pixdim = (pixdim[0]*scale_factor[0], pixdim[1]*scale_factor[1], pixdim[2])\n",
    "    # # save in the header\n",
    "    # img.header.set_zooms(new_pixdim)\n",
    "\n",
    "    # # save the image\n",
    "    ff.make_folder([os.path.join(save_path, 'fixedCT', patient_id),os.path.join(save_path, 'fixedCT', patient_id, patient_subID)])\n",
    "    # save_file = os.path.join(save_path, 'fixedCT', patient_id, patient_subID, 'img_xy1mm.nii.gz')\n",
    "    # nb.save(nb.Nifti1Image(img_data_xy1mm, new_affine, img.header), save_file)\n",
    "\n",
    "\n",
    "    ### 5mm\n",
    "    z_scale_factor = int(5 // pixdim[2])\n",
    "    print('z_scale_factor: ', z_scale_factor)\n",
    "    img_data_xyz5mm = block_reduce(img_data, (1,1,z_scale_factor), np.mean)\n",
    "\n",
    "    # change affine and pixel dimension accordingly\n",
    "    new_affine_5mm = affine.copy()\n",
    "    new_affine_5mm[2, 2] *= z_scale_factor\n",
    "    new_pixdim_5mm = (pixdim[0],pixdim[1], pixdim[2]*z_scale_factor)\n",
    "    # save in the header\n",
    "    img.header.set_zooms(new_pixdim_5mm)\n",
    "\n",
    "    # save the image\n",
    "    save_file = os.path.join(save_path, 'fixedCT', patient_id, patient_subID, 'img_5mm.nii.gz')\n",
    "    nb.save(nb.Nifti1Image(img_data_xyz5mm, new_affine_5mm, img.header), save_file)\n",
    "\n",
    "    ### interpolate to 1.25mm\n",
    "    new_dim = [pixdim[0], pixdim[1], 0.625]\n",
    "\n",
    "    img_5mm = nb.load(os.path.join(save_path, 'fixedCT', patient_id, patient_subID, 'img_5mm.nii.gz'))\n",
    "    hr_resample = Data_processing.resample_nifti(img_5mm, order=1,  mode = 'nearest',  cval = np.min(img_5mm.get_fdata()), in_plane_resolution_mm=new_dim[0], slice_thickness_mm=new_dim[-1])\n",
    "    nb.save(hr_resample, os.path.join(save_path, 'fixedCT', patient_id, patient_subID, 'img_thinslice.nii.gz'))\n",
    "    # delete img_5mm\n",
    "    # os.remove(os.path.join(save_path, 'fixedCT', patient_id, patient_subID, 'img_5mm.nii.gz'))\n",
    "\n",
    "\n"
   ]
  },
  {
   "cell_type": "code",
   "execution_count": null,
   "metadata": {},
   "outputs": [],
   "source": []
  }
 ],
 "metadata": {
  "kernelspec": {
   "display_name": "Python 3",
   "language": "python",
   "name": "python3"
  },
  "language_info": {
   "codemirror_mode": {
    "name": "ipython",
    "version": 3
   },
   "file_extension": ".py",
   "mimetype": "text/x-python",
   "name": "python",
   "nbconvert_exporter": "python",
   "pygments_lexer": "ipython3",
   "version": "3.8.10"
  }
 },
 "nbformat": 4,
 "nbformat_minor": 2
}
